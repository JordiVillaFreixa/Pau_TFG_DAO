{
 "cells": [
  {
   "cell_type": "markdown",
   "metadata": {},
   "source": [
    "Visualizing DAO (1KSI)"
   ]
  },
  {
   "cell_type": "code",
   "execution_count": 56,
   "metadata": {},
   "outputs": [
    {
     "data": {
      "application/3dmoljs_load.v0": "<div id=\"3dmolviewer_1723312971552119\"  style=\"position: relative; width: 640px; height: 480px;\">\n        <p id=\"3dmolwarning_1723312971552119\" style=\"background-color:#ffcccc;color:black\">3Dmol.js failed to load for some reason.  Please check your browser console for error messages.<br></p>\n        </div>\n<script>\n\nvar loadScriptAsync = function(uri){\n  return new Promise((resolve, reject) => {\n    //this is to ignore the existence of requirejs amd\n    var savedexports, savedmodule;\n    if (typeof exports !== 'undefined') savedexports = exports;\n    else exports = {}\n    if (typeof module !== 'undefined') savedmodule = module;\n    else module = {}\n\n    var tag = document.createElement('script');\n    tag.src = uri;\n    tag.async = true;\n    tag.onload = () => {\n        exports = savedexports;\n        module = savedmodule;\n        resolve();\n    };\n  var firstScriptTag = document.getElementsByTagName('script')[0];\n  firstScriptTag.parentNode.insertBefore(tag, firstScriptTag);\n});\n};\n\nif(typeof $3Dmolpromise === 'undefined') {\n$3Dmolpromise = null;\n  $3Dmolpromise = loadScriptAsync('https://cdnjs.cloudflare.com/ajax/libs/3Dmol/2.3.0/3Dmol-min.js');\n}\n\nvar viewer_1723312971552119 = null;\nvar warn = document.getElementById(\"3dmolwarning_1723312971552119\");\nif(warn) {\n    warn.parentNode.removeChild(warn);\n}\n$3Dmolpromise.then(function() {\nviewer_1723312971552119 = $3Dmol.createViewer(document.getElementById(\"3dmolviewer_1723312971552119\"),{backgroundColor:\"white\"});\n$3Dmol.download(\"pdb:1ksi\", viewer_1723312971552119, {}, function() {\nviewer_1723312971552119.zoomTo();\n\tviewer_1723312971552119.setStyle({\"cartoon\": {\"color\": \"spectrum\"}});\nviewer_1723312971552119.render();\n})\n});\n</script>",
      "text/html": [
       "<div id=\"3dmolviewer_1723312971552119\"  style=\"position: relative; width: 640px; height: 480px;\">\n",
       "        <p id=\"3dmolwarning_1723312971552119\" style=\"background-color:#ffcccc;color:black\">3Dmol.js failed to load for some reason.  Please check your browser console for error messages.<br></p>\n",
       "        </div>\n",
       "<script>\n",
       "\n",
       "var loadScriptAsync = function(uri){\n",
       "  return new Promise((resolve, reject) => {\n",
       "    //this is to ignore the existence of requirejs amd\n",
       "    var savedexports, savedmodule;\n",
       "    if (typeof exports !== 'undefined') savedexports = exports;\n",
       "    else exports = {}\n",
       "    if (typeof module !== 'undefined') savedmodule = module;\n",
       "    else module = {}\n",
       "\n",
       "    var tag = document.createElement('script');\n",
       "    tag.src = uri;\n",
       "    tag.async = true;\n",
       "    tag.onload = () => {\n",
       "        exports = savedexports;\n",
       "        module = savedmodule;\n",
       "        resolve();\n",
       "    };\n",
       "  var firstScriptTag = document.getElementsByTagName('script')[0];\n",
       "  firstScriptTag.parentNode.insertBefore(tag, firstScriptTag);\n",
       "});\n",
       "};\n",
       "\n",
       "if(typeof $3Dmolpromise === 'undefined') {\n",
       "$3Dmolpromise = null;\n",
       "  $3Dmolpromise = loadScriptAsync('https://cdnjs.cloudflare.com/ajax/libs/3Dmol/2.3.0/3Dmol-min.js');\n",
       "}\n",
       "\n",
       "var viewer_1723312971552119 = null;\n",
       "var warn = document.getElementById(\"3dmolwarning_1723312971552119\");\n",
       "if(warn) {\n",
       "    warn.parentNode.removeChild(warn);\n",
       "}\n",
       "$3Dmolpromise.then(function() {\n",
       "viewer_1723312971552119 = $3Dmol.createViewer(document.getElementById(\"3dmolviewer_1723312971552119\"),{backgroundColor:\"white\"});\n",
       "$3Dmol.download(\"pdb:1ksi\", viewer_1723312971552119, {}, function() {\n",
       "viewer_1723312971552119.zoomTo();\n",
       "\tviewer_1723312971552119.setStyle({\"cartoon\": {\"color\": \"spectrum\"}});\n",
       "viewer_1723312971552119.render();\n",
       "})\n",
       "});\n",
       "</script>"
      ]
     },
     "metadata": {},
     "output_type": "display_data"
    },
    {
     "data": {
      "text/plain": [
       "<py3Dmol.view at 0x115bedb80>"
      ]
     },
     "execution_count": 56,
     "metadata": {},
     "output_type": "execute_result"
    }
   ],
   "source": [
    "import py3Dmol\n",
    "py3Dmol.__version__\n",
    "p = py3Dmol.view(query='pdb:1ksi')\n",
    "p.setStyle({'cartoon': {'color':'spectrum'}})\n"
   ]
  },
  {
   "cell_type": "code",
   "execution_count": 57,
   "metadata": {},
   "outputs": [
    {
     "data": {
      "application/3dmoljs_load.v0": "<div id=\"3dmolviewer_17233129716986618\"  style=\"position: relative; width: 640px; height: 480px;\">\n        <p id=\"3dmolwarning_17233129716986618\" style=\"background-color:#ffcccc;color:black\">3Dmol.js failed to load for some reason.  Please check your browser console for error messages.<br></p>\n        </div>\n<script>\n\nvar loadScriptAsync = function(uri){\n  return new Promise((resolve, reject) => {\n    //this is to ignore the existence of requirejs amd\n    var savedexports, savedmodule;\n    if (typeof exports !== 'undefined') savedexports = exports;\n    else exports = {}\n    if (typeof module !== 'undefined') savedmodule = module;\n    else module = {}\n\n    var tag = document.createElement('script');\n    tag.src = uri;\n    tag.async = true;\n    tag.onload = () => {\n        exports = savedexports;\n        module = savedmodule;\n        resolve();\n    };\n  var firstScriptTag = document.getElementsByTagName('script')[0];\n  firstScriptTag.parentNode.insertBefore(tag, firstScriptTag);\n});\n};\n\nif(typeof $3Dmolpromise === 'undefined') {\n$3Dmolpromise = null;\n  $3Dmolpromise = loadScriptAsync('https://cdnjs.cloudflare.com/ajax/libs/3Dmol/2.3.0/3Dmol-min.js');\n}\n\nvar viewer_17233129716986618 = null;\nvar warn = document.getElementById(\"3dmolwarning_17233129716986618\");\nif(warn) {\n    warn.parentNode.removeChild(warn);\n}\n$3Dmolpromise.then(function() {\nviewer_17233129716986618 = $3Dmol.createViewer(document.getElementById(\"3dmolviewer_17233129716986618\"),{backgroundColor:\"white\"});\n$3Dmol.download(\"pdb:1ksi\", viewer_17233129716986618, {}, function() {\nviewer_17233129716986618.zoomTo();\n\tviewer_17233129716986618.setStyle({\"cartoon\": {\"color\": \"spectrum\"}});\n\tviewer_17233129716986618.setHoverable({},true,\"function(atom,viewer,event,container) {\\n                   if(!atom.label) {\\n                    atom.label = viewer.addLabel(atom.resn+\\\":\\\"+atom.atom,{position: atom, backgroundColor: 'mintcream', fontColor:'black'});\\n                   }}\",\"function(atom,viewer) { \\n                   if(atom.label) {\\n                    viewer.removeLabel(atom.label);\\n                    delete atom.label;\\n                   }\\n                }\");\nviewer_17233129716986618.render();\n})\n});\n</script>",
      "text/html": [
       "<div id=\"3dmolviewer_17233129716986618\"  style=\"position: relative; width: 640px; height: 480px;\">\n",
       "        <p id=\"3dmolwarning_17233129716986618\" style=\"background-color:#ffcccc;color:black\">3Dmol.js failed to load for some reason.  Please check your browser console for error messages.<br></p>\n",
       "        </div>\n",
       "<script>\n",
       "\n",
       "var loadScriptAsync = function(uri){\n",
       "  return new Promise((resolve, reject) => {\n",
       "    //this is to ignore the existence of requirejs amd\n",
       "    var savedexports, savedmodule;\n",
       "    if (typeof exports !== 'undefined') savedexports = exports;\n",
       "    else exports = {}\n",
       "    if (typeof module !== 'undefined') savedmodule = module;\n",
       "    else module = {}\n",
       "\n",
       "    var tag = document.createElement('script');\n",
       "    tag.src = uri;\n",
       "    tag.async = true;\n",
       "    tag.onload = () => {\n",
       "        exports = savedexports;\n",
       "        module = savedmodule;\n",
       "        resolve();\n",
       "    };\n",
       "  var firstScriptTag = document.getElementsByTagName('script')[0];\n",
       "  firstScriptTag.parentNode.insertBefore(tag, firstScriptTag);\n",
       "});\n",
       "};\n",
       "\n",
       "if(typeof $3Dmolpromise === 'undefined') {\n",
       "$3Dmolpromise = null;\n",
       "  $3Dmolpromise = loadScriptAsync('https://cdnjs.cloudflare.com/ajax/libs/3Dmol/2.3.0/3Dmol-min.js');\n",
       "}\n",
       "\n",
       "var viewer_17233129716986618 = null;\n",
       "var warn = document.getElementById(\"3dmolwarning_17233129716986618\");\n",
       "if(warn) {\n",
       "    warn.parentNode.removeChild(warn);\n",
       "}\n",
       "$3Dmolpromise.then(function() {\n",
       "viewer_17233129716986618 = $3Dmol.createViewer(document.getElementById(\"3dmolviewer_17233129716986618\"),{backgroundColor:\"white\"});\n",
       "$3Dmol.download(\"pdb:1ksi\", viewer_17233129716986618, {}, function() {\n",
       "viewer_17233129716986618.zoomTo();\n",
       "\tviewer_17233129716986618.setStyle({\"cartoon\": {\"color\": \"spectrum\"}});\n",
       "\tviewer_17233129716986618.setHoverable({},true,\"function(atom,viewer,event,container) {\\n                   if(!atom.label) {\\n                    atom.label = viewer.addLabel(atom.resn+\\\":\\\"+atom.atom,{position: atom, backgroundColor: 'mintcream', fontColor:'black'});\\n                   }}\",\"function(atom,viewer) { \\n                   if(atom.label) {\\n                    viewer.removeLabel(atom.label);\\n                    delete atom.label;\\n                   }\\n                }\");\n",
       "viewer_17233129716986618.render();\n",
       "})\n",
       "});\n",
       "</script>"
      ]
     },
     "metadata": {},
     "output_type": "display_data"
    },
    {
     "data": {
      "text/plain": [
       "<py3Dmol.view at 0x115bedb80>"
      ]
     },
     "execution_count": 57,
     "metadata": {},
     "output_type": "execute_result"
    }
   ],
   "source": [
    "p.setHoverable({},True,'''function(atom,viewer,event,container) {\n",
    "                   if(!atom.label) {\n",
    "                    atom.label = viewer.addLabel(atom.resn+\":\"+atom.atom,{position: atom, backgroundColor: 'mintcream', fontColor:'black'});\n",
    "                   }}''',\n",
    "               '''function(atom,viewer) { \n",
    "                   if(atom.label) {\n",
    "                    viewer.removeLabel(atom.label);\n",
    "                    delete atom.label;\n",
    "                   }\n",
    "                }''')"
   ]
  },
  {
   "cell_type": "code",
   "execution_count": 58,
   "metadata": {},
   "outputs": [
    {
     "data": {
      "application/3dmoljs_load.v0": "<div id=\"3dmolviewer_17233129717397702\"  style=\"position: relative; width: 640px; height: 480px;\">\n        <p id=\"3dmolwarning_17233129717397702\" style=\"background-color:#ffcccc;color:black\">3Dmol.js failed to load for some reason.  Please check your browser console for error messages.<br></p>\n        </div>\n<script>\n\nvar loadScriptAsync = function(uri){\n  return new Promise((resolve, reject) => {\n    //this is to ignore the existence of requirejs amd\n    var savedexports, savedmodule;\n    if (typeof exports !== 'undefined') savedexports = exports;\n    else exports = {}\n    if (typeof module !== 'undefined') savedmodule = module;\n    else module = {}\n\n    var tag = document.createElement('script');\n    tag.src = uri;\n    tag.async = true;\n    tag.onload = () => {\n        exports = savedexports;\n        module = savedmodule;\n        resolve();\n    };\n  var firstScriptTag = document.getElementsByTagName('script')[0];\n  firstScriptTag.parentNode.insertBefore(tag, firstScriptTag);\n});\n};\n\nif(typeof $3Dmolpromise === 'undefined') {\n$3Dmolpromise = null;\n  $3Dmolpromise = loadScriptAsync('https://cdnjs.cloudflare.com/ajax/libs/3Dmol/2.3.0/3Dmol-min.js');\n}\n\nvar viewer_17233129717397702 = null;\nvar warn = document.getElementById(\"3dmolwarning_17233129717397702\");\nif(warn) {\n    warn.parentNode.removeChild(warn);\n}\n$3Dmolpromise.then(function() {\nviewer_17233129717397702 = $3Dmol.createViewer(document.getElementById(\"3dmolviewer_17233129717397702\"),{backgroundColor:\"white\"});\n$3Dmol.download(\"pdb:1ksi\", viewer_17233129717397702, {}, function() {\nviewer_17233129717397702.zoomTo();\n\tviewer_17233129717397702.setStyle({\"cartoon\": {\"color\": \"spectrum\"}});\n\tviewer_17233129717397702.setHoverable({},true,\"function(atom,viewer,event,container) {\\n                   if(!atom.label) {\\n                    atom.label = viewer.addLabel(atom.resn+\\\":\\\"+atom.atom,{position: atom, backgroundColor: 'mintcream', fontColor:'black'});\\n                   }}\",\"function(atom,viewer) { \\n                   if(atom.label) {\\n                    viewer.removeLabel(atom.label);\\n                    delete atom.label;\\n                   }\\n                }\");\n\tviewer_17233129717397702.addSurface(1,{\"opacity\": 0.7, \"colorscheme\": {\"prop\": \"b\", \"gradient\": \"sinebow\", \"min\": 0, \"max\": 70}});\nviewer_17233129717397702.render();\n})\n});\n</script>",
      "text/html": [
       "<div id=\"3dmolviewer_17233129717397702\"  style=\"position: relative; width: 640px; height: 480px;\">\n",
       "        <p id=\"3dmolwarning_17233129717397702\" style=\"background-color:#ffcccc;color:black\">3Dmol.js failed to load for some reason.  Please check your browser console for error messages.<br></p>\n",
       "        </div>\n",
       "<script>\n",
       "\n",
       "var loadScriptAsync = function(uri){\n",
       "  return new Promise((resolve, reject) => {\n",
       "    //this is to ignore the existence of requirejs amd\n",
       "    var savedexports, savedmodule;\n",
       "    if (typeof exports !== 'undefined') savedexports = exports;\n",
       "    else exports = {}\n",
       "    if (typeof module !== 'undefined') savedmodule = module;\n",
       "    else module = {}\n",
       "\n",
       "    var tag = document.createElement('script');\n",
       "    tag.src = uri;\n",
       "    tag.async = true;\n",
       "    tag.onload = () => {\n",
       "        exports = savedexports;\n",
       "        module = savedmodule;\n",
       "        resolve();\n",
       "    };\n",
       "  var firstScriptTag = document.getElementsByTagName('script')[0];\n",
       "  firstScriptTag.parentNode.insertBefore(tag, firstScriptTag);\n",
       "});\n",
       "};\n",
       "\n",
       "if(typeof $3Dmolpromise === 'undefined') {\n",
       "$3Dmolpromise = null;\n",
       "  $3Dmolpromise = loadScriptAsync('https://cdnjs.cloudflare.com/ajax/libs/3Dmol/2.3.0/3Dmol-min.js');\n",
       "}\n",
       "\n",
       "var viewer_17233129717397702 = null;\n",
       "var warn = document.getElementById(\"3dmolwarning_17233129717397702\");\n",
       "if(warn) {\n",
       "    warn.parentNode.removeChild(warn);\n",
       "}\n",
       "$3Dmolpromise.then(function() {\n",
       "viewer_17233129717397702 = $3Dmol.createViewer(document.getElementById(\"3dmolviewer_17233129717397702\"),{backgroundColor:\"white\"});\n",
       "$3Dmol.download(\"pdb:1ksi\", viewer_17233129717397702, {}, function() {\n",
       "viewer_17233129717397702.zoomTo();\n",
       "\tviewer_17233129717397702.setStyle({\"cartoon\": {\"color\": \"spectrum\"}});\n",
       "\tviewer_17233129717397702.setHoverable({},true,\"function(atom,viewer,event,container) {\\n                   if(!atom.label) {\\n                    atom.label = viewer.addLabel(atom.resn+\\\":\\\"+atom.atom,{position: atom, backgroundColor: 'mintcream', fontColor:'black'});\\n                   }}\",\"function(atom,viewer) { \\n                   if(atom.label) {\\n                    viewer.removeLabel(atom.label);\\n                    delete atom.label;\\n                   }\\n                }\");\n",
       "\tviewer_17233129717397702.addSurface(1,{\"opacity\": 0.7, \"colorscheme\": {\"prop\": \"b\", \"gradient\": \"sinebow\", \"min\": 0, \"max\": 70}});\n",
       "viewer_17233129717397702.render();\n",
       "})\n",
       "});\n",
       "</script>"
      ]
     },
     "metadata": {},
     "output_type": "display_data"
    },
    {
     "data": {
      "text/plain": [
       "<py3Dmol.view at 0x115bedb80>"
      ]
     },
     "execution_count": 58,
     "metadata": {},
     "output_type": "execute_result"
    }
   ],
   "source": [
    "p.addSurface(py3Dmol.VDW,{'opacity':0.7,'colorscheme':{'prop':'b','gradient':'sinebow','min':0,'max':70}})"
   ]
  },
  {
   "cell_type": "markdown",
   "metadata": {},
   "source": [
    "# Obtain trehalose and manipulate the molecule"
   ]
  },
  {
   "cell_type": "markdown",
   "metadata": {},
   "source": [
    "Function to obtain CID code from pubchem. Also function to download the file\n",
    "Adapted from Faris Izzatur Rahman [code](https://github.com/FarisIzzaturRahman/pubchem_3d_CSVdownloader/blob/main/README.md)."
   ]
  },
  {
   "cell_type": "code",
   "execution_count": 59,
   "metadata": {},
   "outputs": [],
   "source": [
    "import pubchempy as pcp\n",
    "import requests\n",
    "import argparse\n",
    "\n",
    "def search_pubchem(compound: str) -> int:\n",
    "    \"\"\"Search PubChem for a given compound and return its CID.\"\"\"\n",
    "    try:\n",
    "        result = pcp.get_compounds(compound, 'name', record_type='3d')[0]\n",
    "        return result.cid\n",
    "    except (IndexError, pcp.PubChemHTTPError) as e:\n",
    "        print(f\"Error searching PubChem for {compound}: {e}\")\n",
    "        return None\n",
    "\n",
    "def download_sdf(cid: int) -> str:\n",
    "    \"\"\"Download the 3D structure of a compound in SDF format from PubChem and return the SDF text.\"\"\"\n",
    "    try:\n",
    "        url = f'https://pubchem.ncbi.nlm.nih.gov/rest/pug/compound/cid/{cid}/SDF'\n",
    "        response = requests.get(url)\n",
    "        response.raise_for_status()\n",
    "        return response.text\n",
    "    except (requests.exceptions.RequestException, pcp.PubChemHTTPError) as e:\n",
    "        print(f\"Error downloading SDF for CID {cid}: {e}\")\n",
    "        return None"
   ]
  },
  {
   "cell_type": "markdown",
   "metadata": {},
   "source": [
    "obtain the CID of trehalose"
   ]
  },
  {
   "cell_type": "code",
   "execution_count": 60,
   "metadata": {},
   "outputs": [
    {
     "name": "stdout",
     "output_type": "stream",
     "text": [
      "Downloaded SDF for trehalose with CID:7427\n"
     ]
    }
   ],
   "source": [
    "compound_name = 'trehalose'\n",
    "cid = search_pubchem(compound_name)\n",
    "sdf = download_sdf(cid)\n",
    "try:\n",
    "    with open(f'{compound_name}.sdf', 'w') as f:\n",
    "        f.write(sdf)\n",
    "    print(f\"Downloaded SDF for {compound_name} with CID:{cid}\")\n",
    "except IOError as e:\n",
    "    print(f\"Error saving SDF for {compound_name}: {e}\")"
   ]
  },
  {
   "cell_type": "code",
   "execution_count": 61,
   "metadata": {},
   "outputs": [
    {
     "data": {
      "application/3dmoljs_load.v0": "<div id=\"3dmolviewer_1723312973226281\"  style=\"position: relative; width: 680px; height: 250px;\">\n        <p id=\"3dmolwarning_1723312973226281\" style=\"background-color:#ffcccc;color:black\">3Dmol.js failed to load for some reason.  Please check your browser console for error messages.<br></p>\n        </div>\n<script>\n\nvar loadScriptAsync = function(uri){\n  return new Promise((resolve, reject) => {\n    //this is to ignore the existence of requirejs amd\n    var savedexports, savedmodule;\n    if (typeof exports !== 'undefined') savedexports = exports;\n    else exports = {}\n    if (typeof module !== 'undefined') savedmodule = module;\n    else module = {}\n\n    var tag = document.createElement('script');\n    tag.src = uri;\n    tag.async = true;\n    tag.onload = () => {\n        exports = savedexports;\n        module = savedmodule;\n        resolve();\n    };\n  var firstScriptTag = document.getElementsByTagName('script')[0];\n  firstScriptTag.parentNode.insertBefore(tag, firstScriptTag);\n});\n};\n\nif(typeof $3Dmolpromise === 'undefined') {\n$3Dmolpromise = null;\n  $3Dmolpromise = loadScriptAsync('https://cdnjs.cloudflare.com/ajax/libs/3Dmol/2.3.0/3Dmol-min.js');\n}\n\nvar viewer_1723312973226281 = null;\nvar warn = document.getElementById(\"3dmolwarning_1723312973226281\");\nif(warn) {\n    warn.parentNode.removeChild(warn);\n}\n$3Dmolpromise.then(function() {\nvar viewergrid_1723312973226281 = null;\nviewergrid_1723312973226281 = $3Dmol.createViewerGrid(document.getElementById(\"3dmolviewer_1723312973226281\"),{rows: 1, cols: 3, control_all: true},{backgroundColor:\"white\"});\nviewer_1723312973226281 = viewergrid_1723312973226281[0][0];\n$3Dmol.download(\"cid:7427\", viewergrid_1723312973226281[0][0], {}, function() {\n$3Dmol.download(\"cid:7427\", viewergrid_1723312973226281[0][1], {}, function() {\n$3Dmol.download(\"cid:7427\", viewergrid_1723312973226281[0][2], {}, function() {\nviewergrid_1723312973226281[0][0].zoomTo();viewergrid_1723312973226281[0][1].zoomTo();viewergrid_1723312973226281[0][2].zoomTo();\tviewergrid_1723312973226281[0][0].setStyle({\"line\": {\"linewidth\": 8}});\n\tviewergrid_1723312973226281[0][1].setStyle({\"stick\": {\"colorscheme\": \"cyanCarbon\"}});\n\tviewergrid_1723312973226281[0][2].setStyle({\"sphere\": {}});\n\tviewergrid_1723312973226281[0][0].render();\n\tviewergrid_1723312973226281[0][1].render();\n\tviewergrid_1723312973226281[0][2].render();\nviewergrid_1723312973226281[0][2].render();\nviewergrid_1723312973226281[0][1].render();\nviewergrid_1723312973226281[0][0].render();\n})\n})\n})\n});\n</script>",
      "text/html": [
       "<div id=\"3dmolviewer_1723312973226281\"  style=\"position: relative; width: 680px; height: 250px;\">\n",
       "        <p id=\"3dmolwarning_1723312973226281\" style=\"background-color:#ffcccc;color:black\">3Dmol.js failed to load for some reason.  Please check your browser console for error messages.<br></p>\n",
       "        </div>\n",
       "<script>\n",
       "\n",
       "var loadScriptAsync = function(uri){\n",
       "  return new Promise((resolve, reject) => {\n",
       "    //this is to ignore the existence of requirejs amd\n",
       "    var savedexports, savedmodule;\n",
       "    if (typeof exports !== 'undefined') savedexports = exports;\n",
       "    else exports = {}\n",
       "    if (typeof module !== 'undefined') savedmodule = module;\n",
       "    else module = {}\n",
       "\n",
       "    var tag = document.createElement('script');\n",
       "    tag.src = uri;\n",
       "    tag.async = true;\n",
       "    tag.onload = () => {\n",
       "        exports = savedexports;\n",
       "        module = savedmodule;\n",
       "        resolve();\n",
       "    };\n",
       "  var firstScriptTag = document.getElementsByTagName('script')[0];\n",
       "  firstScriptTag.parentNode.insertBefore(tag, firstScriptTag);\n",
       "});\n",
       "};\n",
       "\n",
       "if(typeof $3Dmolpromise === 'undefined') {\n",
       "$3Dmolpromise = null;\n",
       "  $3Dmolpromise = loadScriptAsync('https://cdnjs.cloudflare.com/ajax/libs/3Dmol/2.3.0/3Dmol-min.js');\n",
       "}\n",
       "\n",
       "var viewer_1723312973226281 = null;\n",
       "var warn = document.getElementById(\"3dmolwarning_1723312973226281\");\n",
       "if(warn) {\n",
       "    warn.parentNode.removeChild(warn);\n",
       "}\n",
       "$3Dmolpromise.then(function() {\n",
       "var viewergrid_1723312973226281 = null;\n",
       "viewergrid_1723312973226281 = $3Dmol.createViewerGrid(document.getElementById(\"3dmolviewer_1723312973226281\"),{rows: 1, cols: 3, control_all: true},{backgroundColor:\"white\"});\n",
       "viewer_1723312973226281 = viewergrid_1723312973226281[0][0];\n",
       "$3Dmol.download(\"cid:7427\", viewergrid_1723312973226281[0][0], {}, function() {\n",
       "$3Dmol.download(\"cid:7427\", viewergrid_1723312973226281[0][1], {}, function() {\n",
       "$3Dmol.download(\"cid:7427\", viewergrid_1723312973226281[0][2], {}, function() {\n",
       "viewergrid_1723312973226281[0][0].zoomTo();viewergrid_1723312973226281[0][1].zoomTo();viewergrid_1723312973226281[0][2].zoomTo();\tviewergrid_1723312973226281[0][0].setStyle({\"line\": {\"linewidth\": 8}});\n",
       "\tviewergrid_1723312973226281[0][1].setStyle({\"stick\": {\"colorscheme\": \"cyanCarbon\"}});\n",
       "\tviewergrid_1723312973226281[0][2].setStyle({\"sphere\": {}});\n",
       "\tviewergrid_1723312973226281[0][0].render();\n",
       "\tviewergrid_1723312973226281[0][1].render();\n",
       "\tviewergrid_1723312973226281[0][2].render();\n",
       "viewergrid_1723312973226281[0][2].render();\n",
       "viewergrid_1723312973226281[0][1].render();\n",
       "viewergrid_1723312973226281[0][0].render();\n",
       "})\n",
       "})\n",
       "})\n",
       "});\n",
       "</script>"
      ]
     },
     "metadata": {},
     "output_type": "display_data"
    },
    {
     "data": {
      "text/plain": [
       "<py3Dmol.view at 0x116236900>"
      ]
     },
     "execution_count": 61,
     "metadata": {},
     "output_type": "execute_result"
    }
   ],
   "source": [
    "view = py3Dmol.view(width=680,height=250, query='cid:'+str(cid), viewergrid=(1,3), linked=True)\n",
    "\n",
    "view.setStyle({'line': {'linewidth':8}}, viewer=(0,0))\n",
    "view.setStyle({'stick': {'colorscheme':'cyanCarbon'}}, viewer=(0,1))\n",
    "view.setStyle({'sphere': {}}, viewer=(0,2))\n",
    "\n",
    "view.render()"
   ]
  },
  {
   "cell_type": "markdown",
   "metadata": {},
   "source": [
    "convert SDF to PDB (adapted from [rdkit-scripts](https://github.com/DrrDom/rdkit-scripts/blob/master/mols2pdb.py))"
   ]
  },
  {
   "cell_type": "code",
   "execution_count": 62,
   "metadata": {},
   "outputs": [
    {
     "name": "stdout",
     "output_type": "stream",
     "text": [
      "<rdkit.Chem.PropertyMol.PropertyMol object at 0x116681030> 7427\n",
      "7427\n"
     ]
    },
    {
     "data": {
      "application/3dmoljs_load.v0": "<div id=\"3dmolviewer_1723312973828481\"  style=\"position: relative; width: 640px; height: 480px;\">\n        <p id=\"3dmolwarning_1723312973828481\" style=\"background-color:#ffcccc;color:black\">3Dmol.js failed to load for some reason.  Please check your browser console for error messages.<br></p>\n        </div>\n<script>\n\nvar loadScriptAsync = function(uri){\n  return new Promise((resolve, reject) => {\n    //this is to ignore the existence of requirejs amd\n    var savedexports, savedmodule;\n    if (typeof exports !== 'undefined') savedexports = exports;\n    else exports = {}\n    if (typeof module !== 'undefined') savedmodule = module;\n    else module = {}\n\n    var tag = document.createElement('script');\n    tag.src = uri;\n    tag.async = true;\n    tag.onload = () => {\n        exports = savedexports;\n        module = savedmodule;\n        resolve();\n    };\n  var firstScriptTag = document.getElementsByTagName('script')[0];\n  firstScriptTag.parentNode.insertBefore(tag, firstScriptTag);\n});\n};\n\nif(typeof $3Dmolpromise === 'undefined') {\n$3Dmolpromise = null;\n  $3Dmolpromise = loadScriptAsync('https://cdnjs.cloudflare.com/ajax/libs/3Dmol/2.3.0/3Dmol-min.js');\n}\n\nvar viewer_1723312973828481 = null;\nvar warn = document.getElementById(\"3dmolwarning_1723312973828481\");\nif(warn) {\n    warn.parentNode.removeChild(warn);\n}\n$3Dmolpromise.then(function() {\nviewer_1723312973828481 = $3Dmol.createViewer(document.getElementById(\"3dmolviewer_1723312973828481\"),{backgroundColor:\"white\"});\n$3Dmol.download(\"7427.pdb\", viewer_1723312973828481, {}, function() {\nviewer_1723312973828481.setStyle(\"stick\");\nviewer_1723312973828481.zoomTo();\n\tviewer_1723312973828481.addStyle({\"resn\": \"UNL\"},{\"stick\": {\"colorscheme\": \"grayCarbon\"}});\n\tviewer_1723312973828481.render();\nviewer_1723312973828481.render();\n})\n});\n</script>",
      "text/html": [
       "<div id=\"3dmolviewer_1723312973828481\"  style=\"position: relative; width: 640px; height: 480px;\">\n",
       "        <p id=\"3dmolwarning_1723312973828481\" style=\"background-color:#ffcccc;color:black\">3Dmol.js failed to load for some reason.  Please check your browser console for error messages.<br></p>\n",
       "        </div>\n",
       "<script>\n",
       "\n",
       "var loadScriptAsync = function(uri){\n",
       "  return new Promise((resolve, reject) => {\n",
       "    //this is to ignore the existence of requirejs amd\n",
       "    var savedexports, savedmodule;\n",
       "    if (typeof exports !== 'undefined') savedexports = exports;\n",
       "    else exports = {}\n",
       "    if (typeof module !== 'undefined') savedmodule = module;\n",
       "    else module = {}\n",
       "\n",
       "    var tag = document.createElement('script');\n",
       "    tag.src = uri;\n",
       "    tag.async = true;\n",
       "    tag.onload = () => {\n",
       "        exports = savedexports;\n",
       "        module = savedmodule;\n",
       "        resolve();\n",
       "    };\n",
       "  var firstScriptTag = document.getElementsByTagName('script')[0];\n",
       "  firstScriptTag.parentNode.insertBefore(tag, firstScriptTag);\n",
       "});\n",
       "};\n",
       "\n",
       "if(typeof $3Dmolpromise === 'undefined') {\n",
       "$3Dmolpromise = null;\n",
       "  $3Dmolpromise = loadScriptAsync('https://cdnjs.cloudflare.com/ajax/libs/3Dmol/2.3.0/3Dmol-min.js');\n",
       "}\n",
       "\n",
       "var viewer_1723312973828481 = null;\n",
       "var warn = document.getElementById(\"3dmolwarning_1723312973828481\");\n",
       "if(warn) {\n",
       "    warn.parentNode.removeChild(warn);\n",
       "}\n",
       "$3Dmolpromise.then(function() {\n",
       "viewer_1723312973828481 = $3Dmol.createViewer(document.getElementById(\"3dmolviewer_1723312973828481\"),{backgroundColor:\"white\"});\n",
       "$3Dmol.download(\"7427.pdb\", viewer_1723312973828481, {}, function() {\n",
       "viewer_1723312973828481.setStyle(\"stick\");\n",
       "viewer_1723312973828481.zoomTo();\n",
       "\tviewer_1723312973828481.addStyle({\"resn\": \"UNL\"},{\"stick\": {\"colorscheme\": \"grayCarbon\"}});\n",
       "\tviewer_1723312973828481.render();\n",
       "viewer_1723312973828481.render();\n",
       "})\n",
       "});\n",
       "</script>"
      ]
     },
     "metadata": {},
     "output_type": "display_data"
    },
    {
     "data": {
      "text/plain": [
       "<py3Dmol.view at 0x115c581d0>"
      ]
     },
     "execution_count": 62,
     "metadata": {},
     "output_type": "execute_result"
    }
   ],
   "source": [
    "from rdkit import Chem\n",
    "from rdkit.Chem import AllChem\n",
    "from read_input import read_input\n",
    "\n",
    "def convert_to_pdb(input):\n",
    "    for mol, mol_name in read_input(input):\n",
    "        print(mol, mol_name)\n",
    "        if mol.GetNumConformers() == 0 or not mol.GetConformer(0).Is3D():\n",
    "            mol = Chem.AddHs(mol)\n",
    "            AllChem.EmbedMolecule(mol)\n",
    "        else:\n",
    "            mol = Chem.AddHs(mol, addCoords=True)\n",
    "        mol.SetProp('_Name', mol_name)\n",
    "        print(mol_name)\n",
    "        Chem.MolToPDBFile(mol, mol_name + '.pdb', flavor=4)\n",
    "   \n",
    "    return 'Done'\n",
    "convert_to_pdb('trehalose.sdf')\n",
    "#convert_to_pdb(f'{compound_name}.sdf','./')\n",
    "\n",
    "m = py3Dmol.view('7427.pdb',style='stick')\n",
    "m.addStyle({'resn':'UNL'},{'stick':{'colorscheme':'grayCarbon'}})\n",
    "m.render()"
   ]
  },
  {
   "cell_type": "markdown",
   "metadata": {},
   "source": [
    "Now use the `sed` command to modify the name of the residue in trehalose from `UNL` into `TRE`"
   ]
  },
  {
   "cell_type": "code",
   "execution_count": 64,
   "metadata": {},
   "outputs": [
    {
     "data": {
      "text/plain": [
       "0"
      ]
     },
     "execution_count": 64,
     "metadata": {},
     "output_type": "execute_result"
    }
   ],
   "source": [
    "import subprocess\n",
    "subprocess.call([\"sed -e 's/UNL/TRE/g' 7427.pdb >trehalose.pdb\"], shell=True)"
   ]
  }
 ],
 "metadata": {
  "kernelspec": {
   "display_name": "Python 3",
   "language": "python",
   "name": "python3"
  },
  "language_info": {
   "codemirror_mode": {
    "name": "ipython",
    "version": 3
   },
   "file_extension": ".py",
   "mimetype": "text/x-python",
   "name": "python",
   "nbconvert_exporter": "python",
   "pygments_lexer": "ipython3",
   "version": "3.12.2"
  }
 },
 "nbformat": 4,
 "nbformat_minor": 2
}
