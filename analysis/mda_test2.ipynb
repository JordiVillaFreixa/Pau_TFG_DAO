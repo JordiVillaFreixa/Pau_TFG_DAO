{
 "cells": [
  {
   "cell_type": "code",
   "execution_count": 72,
   "metadata": {},
   "outputs": [],
   "source": [
    "import MDAnalysis as mda\n",
    "#from MDAnalysis.tests.datafiles import PSF, DCD, GRO, XTC\n",
    "\n",
    "import warnings\n",
    "# suppress some MDAnalysis warnings about PSF files\n",
    "#warnings.filterwarnings('ignore')\n",
    "\n",
    "from matplotlib import pyplot as plt\n"
   ]
  },
  {
   "cell_type": "code",
   "execution_count": 73,
   "metadata": {},
   "outputs": [],
   "source": [
    "#scratchdir = '/home/jvilla/scratch'  # lavandula\n",
    "#scratchdir = '/home/jordivilla/scratchdir'  # laptop\n",
    "scratchdir = '/Users/jordivilla/scratch/md'  # mac\n"
   ]
  },
  {
   "cell_type": "code",
   "execution_count": 74,
   "metadata": {},
   "outputs": [
    {
     "name": "stdout",
     "output_type": "stream",
     "text": [
      "<Universe with 174032 atoms>\n",
      "True\n",
      "34\n",
      "42\n"
     ]
    },
    {
     "name": "stderr",
     "output_type": "stream",
     "text": [
      "/Users/jordivilla/miniconda3/lib/python3.12/site-packages/MDAnalysis/topology/TOPParser.py:306: UserWarning: Unknown ATOMIC_NUMBER value found for some atoms, these have been given an empty element record. If needed these can be guessed using MDAnalysis.topology.guessers.\n",
      "  warnings.warn(msg)\n"
     ]
    }
   ],
   "source": [
    "# some information\n",
    "u = mda.Universe(scratchdir+'/dao_noNAG.parm7',scratchdir+'/heatdao_noNAG.nc')\n",
    "print(u)\n",
    "print(hasattr(u, 'trajectory'))\n",
    "print(len(u.trajectory))\n",
    "#print(u.residues)\n",
    "#print(u.atoms)\n",
    "print(u.select_atoms('resname TPQ').n_atoms)\n",
    "#print(u.atoms[:45].names)"
   ]
  },
  {
   "cell_type": "markdown",
   "metadata": {},
   "source": [
    "visualize trajectory"
   ]
  },
  {
   "cell_type": "code",
   "execution_count": 75,
   "metadata": {},
   "outputs": [
    {
     "data": {
      "application/vnd.jupyter.widget-view+json": {
       "model_id": "de23e34d5dd04a72a926ba7fe6e78ad4",
       "version_major": 2,
       "version_minor": 0
      },
      "text/plain": [
       "NGLWidget(max_frame=33)"
      ]
     },
     "metadata": {},
     "output_type": "display_data"
    }
   ],
   "source": [
    "import nglview as nv\n",
    "view = nv.show_mdanalysis(u.select_atoms('resid 1-5'))\n",
    "view"
   ]
  },
  {
   "cell_type": "code",
   "execution_count": 76,
   "metadata": {},
   "outputs": [
    {
     "name": "stdout",
     "output_type": "stream",
     "text": [
      "['N' 'H1' 'H2' 'H3' 'CA' 'HA' 'CB' 'HB' 'CG1' 'HG11' 'HG12' 'HG13' 'CG2'\n",
      " 'HG21' 'HG22' 'HG23' 'C' 'O' 'N' 'H' 'CA' 'HA' 'CB' 'HB2' 'HB3' 'CG'\n",
      " 'HG2' 'HG3' 'CD' 'OE1' 'NE2' 'HE21' 'HE22' 'C' 'O' 'N' 'H' 'CA' 'HA' 'CB'\n",
      " 'HB2' 'HB3' 'CG' 'ND1' 'CE1' 'HE1' 'NE2' 'HE2' 'CD2' 'HD2' 'C' 'O' 'N'\n",
      " 'CD' 'HD2' 'HD3' 'CG' 'HG2' 'HG3' 'CB' 'HB2' 'HB3' 'CA' 'HA' 'C' 'O' 'N'\n",
      " 'H' 'CA' 'HA' 'CB' 'HB2' 'HB3' 'CG' 'HG' 'CD1' 'HD11' 'HD12' 'HD13' 'CD2'\n",
      " 'HD21' 'HD22' 'HD23' 'C' 'O']\n",
      "[30.22129753 47.26550565 47.9546678 ]\n"
     ]
    }
   ],
   "source": [
    "tre = u.select_atoms('resid 1-5')\n",
    "print(tre.names)\n",
    "print(tre.center_of_mass())"
   ]
  },
  {
   "cell_type": "code",
   "execution_count": 77,
   "metadata": {},
   "outputs": [
    {
     "name": "stdout",
     "output_type": "stream",
     "text": [
      "Frame:   0, Time:   0.2 ps, Rgyr: 57.1433 A\n",
      "Frame:   1, Time:   0.4 ps, Rgyr: 57.1218 A\n",
      "Frame:   2, Time:   0.6 ps, Rgyr: 57.0286 A\n",
      "Frame:   3, Time:   0.8 ps, Rgyr: 56.8986 A\n",
      "Frame:   4, Time:   1.0 ps, Rgyr: 56.7562 A\n",
      "Frame:   5, Time:   1.2 ps, Rgyr: 56.6136 A\n",
      "Frame:   6, Time:   1.4 ps, Rgyr: 56.4764 A\n",
      "Frame:   7, Time:   1.6 ps, Rgyr: 56.3471 A\n",
      "Frame:   8, Time:   1.8 ps, Rgyr: 56.2235 A\n",
      "Frame:   9, Time:   2.0 ps, Rgyr: 56.1064 A\n",
      "Frame:  10, Time:   2.2 ps, Rgyr: 55.9978 A\n",
      "Frame:  11, Time:   2.4 ps, Rgyr: 55.8981 A\n",
      "Frame:  12, Time:   2.6 ps, Rgyr: 55.8070 A\n",
      "Frame:  13, Time:   2.8 ps, Rgyr: 55.7265 A\n",
      "Frame:  14, Time:   3.0 ps, Rgyr: 55.6558 A\n",
      "Frame:  15, Time:   3.2 ps, Rgyr: 55.5940 A\n",
      "Frame:  16, Time:   3.4 ps, Rgyr: 55.5410 A\n",
      "Frame:  17, Time:   3.6 ps, Rgyr: 55.4963 A\n",
      "Frame:  18, Time:   3.8 ps, Rgyr: 55.4571 A\n",
      "Frame:  19, Time:   4.0 ps, Rgyr: 55.4213 A\n"
     ]
    }
   ],
   "source": [
    "for ts in u.trajectory[:20]:\n",
    "    time = u.trajectory.time\n",
    "    rgyr = u.atoms.radius_of_gyration()\n",
    "    print(\"Frame: {:3d}, Time: {:5.1f} ps, Rgyr: {:.4f} A\".format(ts.frame, time, rgyr))"
   ]
  },
  {
   "cell_type": "markdown",
   "metadata": {},
   "source": [
    "collect data in a list first"
   ]
  },
  {
   "cell_type": "code",
   "execution_count": 78,
   "metadata": {},
   "outputs": [],
   "source": [
    "rgyr = []\n",
    "time = []\n",
    "\n",
    "for ts in u.trajectory:\n",
    "    time.append(u.trajectory.time)\n",
    "    rgyr.append(tre.radius_of_gyration())"
   ]
  },
  {
   "cell_type": "markdown",
   "metadata": {},
   "source": [
    "now transform into a pandas dataframe and plot"
   ]
  },
  {
   "cell_type": "code",
   "execution_count": 79,
   "metadata": {},
   "outputs": [
    {
     "data": {
      "text/html": [
       "<div>\n",
       "<style scoped>\n",
       "    .dataframe tbody tr th:only-of-type {\n",
       "        vertical-align: middle;\n",
       "    }\n",
       "\n",
       "    .dataframe tbody tr th {\n",
       "        vertical-align: top;\n",
       "    }\n",
       "\n",
       "    .dataframe thead th {\n",
       "        text-align: right;\n",
       "    }\n",
       "</style>\n",
       "<table border=\"1\" class=\"dataframe\">\n",
       "  <thead>\n",
       "    <tr style=\"text-align: right;\">\n",
       "      <th></th>\n",
       "      <th>Radius of gyration (A)</th>\n",
       "    </tr>\n",
       "    <tr>\n",
       "      <th>Time (ps)</th>\n",
       "      <th></th>\n",
       "    </tr>\n",
       "  </thead>\n",
       "  <tbody>\n",
       "    <tr>\n",
       "      <th>0.2</th>\n",
       "      <td>5.052170</td>\n",
       "    </tr>\n",
       "    <tr>\n",
       "      <th>0.4</th>\n",
       "      <td>5.070926</td>\n",
       "    </tr>\n",
       "    <tr>\n",
       "      <th>0.6</th>\n",
       "      <td>5.030868</td>\n",
       "    </tr>\n",
       "    <tr>\n",
       "      <th>0.8</th>\n",
       "      <td>5.028620</td>\n",
       "    </tr>\n",
       "    <tr>\n",
       "      <th>1.0</th>\n",
       "      <td>5.021987</td>\n",
       "    </tr>\n",
       "  </tbody>\n",
       "</table>\n",
       "</div>"
      ],
      "text/plain": [
       "           Radius of gyration (A)\n",
       "Time (ps)                        \n",
       "0.2                      5.052170\n",
       "0.4                      5.070926\n",
       "0.6                      5.030868\n",
       "0.8                      5.028620\n",
       "1.0                      5.021987"
      ]
     },
     "execution_count": 79,
     "metadata": {},
     "output_type": "execute_result"
    }
   ],
   "source": [
    "import pandas as pd\n",
    "rgyr_df = pd.DataFrame(rgyr, columns=['Radius of gyration (A)'], index=time)\n",
    "rgyr_df.index.name = 'Time (ps)'\n",
    "\n",
    "rgyr_df.head()"
   ]
  },
  {
   "cell_type": "code",
   "execution_count": 80,
   "metadata": {},
   "outputs": [
    {
     "data": {
      "text/plain": [
       "<Axes: title={'center': 'Radius of gyration'}, xlabel='Time (ps)'>"
      ]
     },
     "execution_count": 80,
     "metadata": {},
     "output_type": "execute_result"
    },
    {
     "data": {
      "image/png": "[encoded data removed]",
      "text/plain": [
       "<Figure size 640x480 with 1 Axes>"
      ]
     },
     "metadata": {},
     "output_type": "display_data"
    }
   ],
   "source": [
    "%matplotlib inline\n",
    "\n",
    "rgyr_df.plot(title='Radius of gyration')"
   ]
  },
  {
   "cell_type": "markdown",
   "metadata": {},
   "source": [
    "test the change in RMSD from the first to the last snapshot in the trajectory"
   ]
  },
  {
   "cell_type": "code",
   "execution_count": 81,
   "metadata": {},
   "outputs": [
    {
     "name": "stdout",
     "output_type": "stream",
     "text": [
      "[[32.594944 42.858704 43.52061 ]\n",
      " [33.36108  43.246788 42.989075]\n",
      " [32.96779  42.11257  44.090153]\n",
      " [31.902569 42.459106 42.903324]\n",
      " [31.97585  43.875492 44.392475]\n",
      " [32.718906 44.168816 45.13405 ]\n",
      " [31.593014 45.16158  43.625233]\n",
      " [31.147348 45.8342   44.35808 ]\n",
      " [32.83089  45.88162  43.059082]\n",
      " [32.539738 46.858707 42.654186]\n",
      " [33.5766   46.07142  43.84094 ]\n",
      " [33.30943  45.319057 42.24795 ]\n",
      " [30.581781 45.008934 42.464363]\n",
      " [30.360374 45.98765  42.021076]\n",
      " [30.96478  44.36753  41.66104 ]\n",
      " [29.632221 44.591614 42.821568]\n",
      " [30.78211  43.281445 45.157246]\n",
      " [30.10192  42.40912  44.639194]\n",
      " [30.52427  43.746986 46.382504]\n",
      " [31.186142 44.415585 46.749928]\n",
      " [29.30553  43.507915 47.18292 ]\n",
      " [28.516315 43.147182 46.52329 ]\n",
      " [29.525215 42.427906 48.26958 ]\n",
      " [30.282904 42.769268 48.974903]\n",
      " [28.58819  42.320396 48.81596 ]\n",
      " [29.925697 41.037796 47.735542]\n",
      " [29.218685 40.735664 46.962914]\n",
      " [30.915789 41.098408 47.28372 ]\n",
      " [29.933168 39.967525 48.83591 ]\n",
      " [28.913935 39.426044 49.21621 ]\n",
      " [31.076464 39.631855 49.384003]\n",
      " [31.942076 40.07528  49.111607]\n",
      " [31.041115 39.005333 50.175407]\n",
      " [28.775911 44.809517 47.82478 ]\n",
      " [27.57629  45.02724  47.86162 ]\n",
      " [29.672104 45.689453 48.289783]\n",
      " [30.655416 45.486263 48.18064 ]\n",
      " [29.345743 46.987488 48.887337]\n",
      " [28.308222 46.96597  49.220787]\n",
      " [30.217817 47.193882 50.136116]\n",
      " [30.273186 46.257214 50.70444 ]\n",
      " [31.24414  47.442272 49.838833]\n",
      " [29.692894 48.27574  51.041595]\n",
      " [29.754726 49.647167 50.783535]\n",
      " [29.053984 50.227715 51.774326]\n",
      " [28.86821  51.286285 51.88073 ]\n",
      " [28.572748 49.30677  52.61967 ]\n",
      " [27.95087  49.517113 53.387215]\n",
      " [28.961962 48.06648  52.17518 ]\n",
      " [28.6945   47.112526 52.60511 ]\n",
      " [29.539673 48.146576 47.885662]\n",
      " [30.519058 48.139294 47.153748]\n",
      " [28.660648 49.170452 47.853226]\n",
      " [27.352587 49.19865  48.50546 ]\n",
      " [27.459337 49.42225  49.574116]\n",
      " [26.820778 48.24864  48.371044]\n",
      " [26.56284  50.328903 47.826008]\n",
      " [25.844896 50.799984 48.508686]\n",
      " [26.024353 49.944263 46.951084]\n",
      " [27.676556 51.290424 47.37703 ]\n",
      " [27.972359 51.928036 48.219265]\n",
      " [27.371504 51.93518  46.543575]\n",
      " [28.82071  50.348297 46.988033]\n",
      " [28.680382 50.02913  45.9553  ]\n",
      " [30.180044 51.06518  47.086422]\n",
      " [30.599344 51.67124  46.10951 ]\n",
      " [30.850584 51.005024 48.244057]\n",
      " [30.433422 50.479004 48.998627]\n",
      " [32.158363 51.61807  48.513653]\n",
      " [32.23215  52.5477   47.94934 ]\n",
      " [32.262554 51.964703 50.01716 ]\n",
      " [32.2015   51.036526 50.58537 ]\n",
      " [33.24371  52.39834  50.21055 ]\n",
      " [31.19519  52.93479  50.552807]\n",
      " [30.199905 52.520573 50.391766]\n",
      " [31.399113 53.144268 52.05313 ]\n",
      " [30.611286 53.784027 52.469604]\n",
      " [31.3722   52.181442 52.578156]\n",
      " [32.370487 53.613678 52.25187 ]\n",
      " [31.267138 54.308575 49.87821 ]\n",
      " [30.55317  55.000954 50.3411  ]\n",
      " [32.273315 54.737    49.964638]\n",
      " [31.019518 54.220512 48.813156]\n",
      " [33.372395 50.770573 48.081356]\n",
      " [34.4908   51.23426  48.211052]] [[33.43327  43.103973 44.01707 ]\n",
      " [34.07749  43.565067 43.39059 ]\n",
      " [33.922962 42.289543 44.359127]\n",
      " [32.607533 42.7824   43.532463]\n",
      " [33.043373 43.998955 45.136402]\n",
      " [33.849705 44.049652 45.868088]\n",
      " [32.802856 45.425697 44.661606]\n",
      " [32.46824  45.996376 45.527897]\n",
      " [34.120995 46.055466 44.204754]\n",
      " [34.048237 47.141327 44.06686 ]\n",
      " [34.935303 45.851906 44.911064]\n",
      " [34.40307  45.606407 43.24445 ]\n",
      " [31.796335 45.482834 43.561726]\n",
      " [31.69496  46.53564  43.270645]\n",
      " [32.08793  44.930584 42.65984 ]\n",
      " [30.819115 45.10568  43.887615]\n",
      " [31.808626 43.409935 45.829304]\n",
      " [30.981712 42.812088 45.173603]\n",
      " [31.733204 43.56352  47.132843]\n",
      " [32.526043 44.027477 47.552654]\n",
      " [30.585835 43.407387 48.024166]\n",
      " [29.788248 42.860775 47.521008]\n",
      " [30.91591  42.527737 49.24132 ]\n",
      " [31.788145 42.928173 49.758003]\n",
      " [30.090345 42.63443  49.945004]\n",
      " [31.125637 40.992115 48.97425 ]\n",
      " [30.55582  40.704002 48.09085 ]\n",
      " [32.18314  40.749325 48.87013 ]\n",
      " [30.545172 40.112125 50.071068]\n",
      " [29.47587  40.37089  50.635426]\n",
      " [31.20421  39.039406 50.4444  ]\n",
      " [32.041794 38.73543  49.96884 ]\n",
      " [30.79859  38.56783  51.24013 ]\n",
      " [30.067982 44.818333 48.387367]\n",
      " [28.994764 45.17869  47.935883]\n",
      " [30.783278 45.548653 49.2168  ]\n",
      " [31.721197 45.252003 49.445724]\n",
      " [30.314997 46.857105 49.68921 ]\n",
      " [29.27746  46.673336 49.96822 ]\n",
      " [31.10372  47.30688  50.893803]\n",
      " [31.33493  46.423843 51.502243]\n",
      " [32.04426  47.65546  50.449627]\n",
      " [30.425747 48.37319  51.738117]\n",
      " [30.22717  49.714348 51.362953]\n",
      " [29.358063 50.19694  52.23847 ]\n",
      " [28.974503 51.206406 52.25474 ]\n",
      " [29.106558 49.300095 53.18802 ]\n",
      " [28.559254 49.53532  54.003635]\n",
      " [29.748262 48.11695  52.867344]\n",
      " [29.69112  47.14545  53.335667]\n",
      " [30.305002 47.91286  48.587143]\n",
      " [31.195992 47.923706 47.788757]\n",
      " [29.307398 48.826588 48.51199 ]\n",
      " [28.020739 48.780285 49.1917  ]\n",
      " [28.10542  49.020153 50.258797]\n",
      " [27.533596 47.811443 49.02601 ]\n",
      " [27.158966 49.878765 48.545494]\n",
      " [26.476498 50.285812 49.301773]\n",
      " [26.553694 49.465416 47.729282]\n",
      " [28.168512 50.862556 47.923893]\n",
      " [28.43746  51.611046 48.67943 ]\n",
      " [27.78236  51.373024 47.03298 ]\n",
      " [29.367393 49.9671   47.610104]\n",
      " [29.283947 49.547264 46.60767 ]\n",
      " [30.645868 50.81982  47.67785 ]\n",
      " [31.110106 51.284966 46.663322]\n",
      " [31.2575   50.981842 48.87895 ]\n",
      " [30.85563  50.630413 49.73633 ]\n",
      " [32.515297 51.67398  49.069267]\n",
      " [32.5998   52.503227 48.366905]\n",
      " [32.52652  52.28666  50.46486 ]\n",
      " [32.537655 51.466164 51.18233 ]\n",
      " [33.473846 52.825794 50.46714 ]\n",
      " [31.345589 53.213596 50.83897 ]\n",
      " [30.40676  52.660526 50.867455]\n",
      " [31.6874   53.720127 52.275745]\n",
      " [30.896454 54.36384  52.680035]\n",
      " [31.867338 52.857323 52.92889 ]\n",
      " [32.62611  54.287746 52.268955]\n",
      " [31.283697 54.42241  49.91455 ]\n",
      " [30.585442 55.15986  50.329296]\n",
      " [32.26336  54.891376 49.760452]\n",
      " [30.950409 54.14938  48.9057  ]\n",
      " [33.735886 50.768044 48.902805]\n",
      " [34.85778  51.150616 49.20403 ]]\n"
     ]
    },
    {
     "data": {
      "text/plain": [
       "1.2170993883256245"
      ]
     },
     "execution_count": 81,
     "metadata": {},
     "output_type": "execute_result"
    }
   ],
   "source": [
    "from MDAnalysis.analysis import rms\n",
    "\n",
    "\n",
    "u.trajectory[0] # first frame\n",
    "first = tre.positions\n",
    "\n",
    "\n",
    "u.trajectory[-1] #last frame\n",
    "last = tre.positions\n",
    "\n",
    "print(first,last)\n",
    "\n",
    "rms.rmsd(first, last)"
   ]
  },
  {
   "cell_type": "markdown",
   "metadata": {},
   "source": [
    "now run a complete RMSD plot"
   ]
  },
  {
   "cell_type": "markdown",
   "metadata": {},
   "source": [
    "The results are stored in the `.rmsd` attribute. This is an array with the shape `(n_frames, 2 + n_selections)`."
   ]
  },
  {
   "cell_type": "code",
   "execution_count": 82,
   "metadata": {},
   "outputs": [
    {
     "name": "stdout",
     "output_type": "stream",
     "text": [
      "(34, 3)\n"
     ]
    },
    {
     "name": "stderr",
     "output_type": "stream",
     "text": [
      "/Users/jordivilla/miniconda3/lib/python3.12/site-packages/MDAnalysis/analysis/rms.py:722: DeprecationWarning: The `rmsd` attribute was deprecated in MDAnalysis 2.0.0 and will be removed in MDAnalysis 3.0.0. Please use `results.rmsd` instead.\n",
      "  warnings.warn(wmsg, DeprecationWarning)\n"
     ]
    },
    {
     "data": {
      "text/html": [
       "<div>\n",
       "<style scoped>\n",
       "    .dataframe tbody tr th:only-of-type {\n",
       "        vertical-align: middle;\n",
       "    }\n",
       "\n",
       "    .dataframe tbody tr th {\n",
       "        vertical-align: top;\n",
       "    }\n",
       "\n",
       "    .dataframe thead th {\n",
       "        text-align: right;\n",
       "    }\n",
       "</style>\n",
       "<table border=\"1\" class=\"dataframe\">\n",
       "  <thead>\n",
       "    <tr style=\"text-align: right;\">\n",
       "      <th></th>\n",
       "      <th>Frame</th>\n",
       "      <th>Time (ns)</th>\n",
       "      <th>Backbone</th>\n",
       "    </tr>\n",
       "  </thead>\n",
       "  <tbody>\n",
       "    <tr>\n",
       "      <th>0</th>\n",
       "      <td>0.0</td>\n",
       "      <td>0.2</td>\n",
       "      <td>0.000002</td>\n",
       "    </tr>\n",
       "    <tr>\n",
       "      <th>1</th>\n",
       "      <td>1.0</td>\n",
       "      <td>0.4</td>\n",
       "      <td>0.154646</td>\n",
       "    </tr>\n",
       "    <tr>\n",
       "      <th>2</th>\n",
       "      <td>2.0</td>\n",
       "      <td>0.6</td>\n",
       "      <td>0.287097</td>\n",
       "    </tr>\n",
       "    <tr>\n",
       "      <th>3</th>\n",
       "      <td>3.0</td>\n",
       "      <td>0.8</td>\n",
       "      <td>0.391838</td>\n",
       "    </tr>\n",
       "    <tr>\n",
       "      <th>4</th>\n",
       "      <td>4.0</td>\n",
       "      <td>1.0</td>\n",
       "      <td>0.470551</td>\n",
       "    </tr>\n",
       "  </tbody>\n",
       "</table>\n",
       "</div>"
      ],
      "text/plain": [
       "   Frame  Time (ns)  Backbone\n",
       "0    0.0        0.2  0.000002\n",
       "1    1.0        0.4  0.154646\n",
       "2    2.0        0.6  0.287097\n",
       "3    3.0        0.8  0.391838\n",
       "4    4.0        1.0  0.470551"
      ]
     },
     "execution_count": 82,
     "metadata": {},
     "output_type": "execute_result"
    }
   ],
   "source": [
    "u.trajectory[0] # set to first frame\n",
    "rmsd_analysis = rms.RMSD(u, select='backbone')\n",
    "rmsd_analysis.run()\n",
    "rmsd_analysis.results.rmsd.shape\n",
    "print(rmsd_analysis.rmsd.shape)\n",
    "\n",
    "rmsd_df = pd.DataFrame(rmsd_analysis.results.rmsd,\n",
    "                       columns=['Frame', 'Time (ns)', 'Backbone'])\n",
    "rmsd_df.head()\n",
    "\n"
   ]
  },
  {
   "cell_type": "code",
   "execution_count": 83,
   "metadata": {},
   "outputs": [
    {
     "data": {
      "text/plain": [
       "Text(0, 0.5, 'RMSD ($\\\\AA$)')"
      ]
     },
     "execution_count": 83,
     "metadata": {},
     "output_type": "execute_result"
    },
    {
     "data": {
      "image/png": "[encoded data removed]",
      "text/plain": [
       "<Figure size 640x480 with 1 Axes>"
      ]
     },
     "metadata": {},
     "output_type": "display_data"
    }
   ],
   "source": [
    "ax = rmsd_df.plot(x='Time (ns)', y=['Backbone'],kind='line')\n",
    "ax.set_ylabel(r'RMSD ($\\AA$)')"
   ]
  }
 ],
 "metadata": {
  "kernelspec": {
   "display_name": "Python 3 (ipykernel)",
   "language": "python",
   "name": "python3"
  },
  "language_info": {
   "codemirror_mode": {
    "name": "ipython",
    "version": 3
   },
   "file_extension": ".py",
   "mimetype": "text/x-python",
   "name": "python",
   "nbconvert_exporter": "python",
   "pygments_lexer": "ipython3",
   "version": "3.12.2"
  }
 },
 "nbformat": 4,
 "nbformat_minor": 4
}
