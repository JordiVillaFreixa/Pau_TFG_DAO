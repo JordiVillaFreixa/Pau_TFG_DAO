{
 "cells": [
  {
   "cell_type": "code",
   "execution_count": null,
   "metadata": {},
   "outputs": [],
   "source": [
    "import MDAnalysis as mda\n",
    "from MDAnalysis.tests.datafiles import PSF, DCD, GRO, XTC\n",
    "\n",
    "import warnings\n",
    "# suppress some MDAnalysis warnings about PSF files\n",
    "warnings.filterwarnings('ignore')\n",
    "\n",
    "from matplotlib import pyplot as plt\n",
    "\n",
    "print(mda.Universe(PSF, DCD))\n",
    "print(\"Using MDAnalysis version\", mda.__version__)\n",
    "\n",
    "%matplotlib inline"
   ]
  }
 ],
 "metadata": {
  "language_info": {
   "name": "python"
  }
 },
 "nbformat": 4,
 "nbformat_minor": 2
}
